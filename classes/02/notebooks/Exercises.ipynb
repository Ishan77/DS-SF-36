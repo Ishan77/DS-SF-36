{
 "cells": [
  {
   "cell_type": "markdown",
   "metadata": {},
   "source": [
    "#### Exercise 1\n",
    "\n",
    "Create a function for the rock, paper, and scissors game. The function should have two arguments: user1's move and user2's move. The function should compare the two moves and output which move wins or if it results in a tie.\n",
    "\n",
    "Remember: Paper > Rock, Rock > Scissors, Scissors > Paper.\n",
    "\n",
    "\n",
    "Example:\n",
    "\n",
    "function(\"rock\", \"paper\")\n",
    "\n",
    "-> \"Paper wins\"\n",
    "\n",
    "function(\"scissors\", \"scissors\")\n",
    "\n",
    "-> \"Tie\""
   ]
  },
  {
   "cell_type": "code",
   "execution_count": null,
   "metadata": {
    "collapsed": true
   },
   "outputs": [],
   "source": [
    "def RPSgame(weapon1,weapon2):\n",
    "\n",
    "    if weapon1.lower()==\"paper\" and weapon2.lower()==\"rock\":\n",
    "        return \"Paper Wins\"\n",
    "\n",
    "    elif weapon1.lower()==\"paper\" and weapon2.lower()==\"scissors\":\n",
    "        return \"scissors Wins\"\n",
    "\n",
    "    elif weapon1.lower()==\"rock\" and weapon2.lower()==\"paper\":\n",
    "        return \"Paper Wins\"\n",
    "\n",
    "    elif weapon1.lower()== \"rock\" and weapon2.lower()==\"scissors\":\n",
    "        return \"Rock Wins\"\n",
    "\n",
    "    elif weapon1.lower()== \"scissors\" and weapon2.lower()==\"paper\":\n",
    "        return \"Scissors Wins\"\n",
    "\n",
    "    elif weapon1.lower()==\"scissors\" and weapon2.lower()==\"rock\":\n",
    "        return \"Rock Wins\"\n",
    "\n",
    "\n",
    "if __name__ == \"__main__\":\n",
    "\n",
    "    print(RPSgame(\"Paper\",\"Scissors\"))\n",
    "    \n",
    "    \n"
   ]
  },
  {
   "cell_type": "markdown",
   "metadata": {},
   "source": [
    "#### Exercise 2\n",
    "Write a function that takes a long string containing multiple words. Print the same string, except with the words in backwards order. For example, say I type the string:\n",
    "\n",
    "      -\"My name is Michele\"\n",
    "  \n",
    "Then I would get the string:\n",
    "\n",
    "      -\"Michele is name My\"\n",
    "\n",
    "\n"
   ]
  },
  {
   "cell_type": "code",
   "execution_count": 2,
   "metadata": {},
   "outputs": [
    {
     "name": "stdout",
     "output_type": "stream",
     "text": [
      "Ishan is name my\n"
     ]
    }
   ],
   "source": [
    "def stringreverse(word):\n",
    "    list_words = (word.split())\n",
    "    list_words.reverse()\n",
    "    return \" \".join(list_words)\n",
    "\n",
    "if __name__ == \"__main__\":\n",
    "\n",
    "    print(stringreverse(\"my name is Ishan\"))\n",
    "    "
   ]
  },
  {
   "cell_type": "markdown",
   "metadata": {},
   "source": [
    "#### Exercise 3\n",
    "\n",
    "Write a function that takes a list and returns a new list that contains all the elements of the first list minus all the duplicates.\n",
    "\n",
    "Input: [2,3,4,4,5,5,5,6,6] \n",
    "\n",
    "Output: [2,3,4,5,6]"
   ]
  },
  {
   "cell_type": "code",
   "execution_count": 4,
   "metadata": {},
   "outputs": [
    {
     "name": "stdout",
     "output_type": "stream",
     "text": [
      "[2, 3, 4, 5, 6]\n"
     ]
    }
   ],
   "source": [
    " def removeduplicates(list_num):\n",
    "        duplicate = set(list_num)\n",
    "        return list(duplicate)\n",
    "\n",
    "if __name__ ==\"__main__\":\n",
    "    \n",
    "    print(removeduplicates([2,3,4,4,5,5,5,6,6]))\n",
    "    \n",
    "    "
   ]
  },
  {
   "cell_type": "markdown",
   "metadata": {},
   "source": [
    "#### Exercise 4\n",
    "Given a list of integers, return the integers that can be divided by other integers in that list.\n",
    "\n",
    "Input: [6,8,3,2,4,5,10]\n",
    "\n",
    "Output: [6,8,4,10]"
   ]
  },
  {
   "cell_type": "code",
   "execution_count": null,
   "metadata": {
    "collapsed": true
   },
   "outputs": [],
   "source": [
    "def divideInteger(list_num):\n",
    "    list_actual=[]\n",
    "    list1 = list(set(list_num))\n",
    "    for i in (list1):\n",
    "        for j in (list1):\n",
    "            if i%j == 0 and i!=j:\n",
    "                list_actual.append(i)\n",
    "                break\n",
    "\n",
    "\n",
    "    return(list_actual)\n",
    "\n",
    "\n",
    "\n",
    "\n",
    "if __name__ == \"__main__\":\n",
    "\n",
    "    print(divideInteger([6,8,3,2,4,5,10]))\n",
    "        \n",
    "        \n",
    "            \n",
    "            "
   ]
  },
  {
   "cell_type": "markdown",
   "metadata": {},
   "source": [
    "#### Exercise 5\n",
    "Create an anagram detection function. This function will take in a list of strings and returns the strings that have anagrams in that list.\n",
    "\n",
    "Input: ['bat', 'rats', 'god', 'dog', 'cat', 'arts', 'star']\n",
    "\n",
    "Output: ['rats', 'god', 'dog', 'arts', 'star'] "
   ]
  },
  {
   "cell_type": "code",
   "execution_count": null,
   "metadata": {
    "collapsed": true
   },
   "outputs": [],
   "source": []
  },
  {
   "cell_type": "markdown",
   "metadata": {},
   "source": [
    "def separateSum(number):\n",
    "    tot = 0\n",
    "    number_int = str(number)\n",
    "    for i in number_int:\n",
    "        tot = int(i)+tot\n",
    "    return tot\n",
    "\n",
    "\n",
    "if __name__ == \"__main__\" :\n",
    "\n",
    "    print(separateSum(1234))"
   ]
  },
  {
   "cell_type": "markdown",
   "metadata": {},
   "source": [
    "#### <b>What to do if you're finished</b>\n",
    "\n",
    "Try to do some Python exercises on the following websites:\n",
    "\n",
    "-http://www.practicepython.org/    \n",
    "    \n",
    "-https://github.com/zhiwehu/Python-programming-exercises\n",
    "\n",
    "-https://projecteuler.net/archives\n",
    "\n",
    "-https://www.quora.com/Where-can-I-find-basic-python-practice-problems\n",
    "\n",
    "-http://codingbat.com/python\n",
    "\n",
    "-http://exercism.io/languages/python/exercises"
   ]
  },
  {
   "cell_type": "code",
   "execution_count": 5,
   "metadata": {},
   "outputs": [
    {
     "name": "stdout",
     "output_type": "stream",
     "text": [
      "10\n"
     ]
    }
   ],
   "source": [
    "def separateSum(number):\n",
    "    tot = 0\n",
    "    number_int = str(number)\n",
    "    for i in number_int:\n",
    "        tot = int(i)+tot\n",
    "    return tot\n",
    "\n",
    "\n",
    "if __name__ == \"__main__\" :\n",
    "\n",
    "    print(separateSum(1234))"
   ]
  },
  {
   "cell_type": "code",
   "execution_count": null,
   "metadata": {
    "collapsed": true
   },
   "outputs": [],
   "source": []
  }
 ],
 "metadata": {
  "kernelspec": {
   "display_name": "Python 2",
   "language": "python",
   "name": "python2"
  },
  "language_info": {
   "codemirror_mode": {
    "name": "ipython",
    "version": 2
   },
   "file_extension": ".py",
   "mimetype": "text/x-python",
   "name": "python",
   "nbconvert_exporter": "python",
   "pygments_lexer": "ipython2",
   "version": "2.7.13"
  }
 },
 "nbformat": 4,
 "nbformat_minor": 2
}
